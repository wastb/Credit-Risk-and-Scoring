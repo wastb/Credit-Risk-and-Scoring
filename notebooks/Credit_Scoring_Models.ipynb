{
  "metadata": {
    "kernelspec": {
      "display_name": "Python 3",
      "name": "python3"
    },
    "language_info": {
      "name": "python",
      "version": "3.10.12",
      "mimetype": "text/x-python",
      "codemirror_mode": {
        "name": "ipython",
        "version": 3
      },
      "pygments_lexer": "ipython3",
      "nbconvert_exporter": "python",
      "file_extension": ".py"
    },
    "kaggle": {
      "accelerator": "none",
      "dataSources": [
        {
          "sourceId": 10591062,
          "sourceType": "datasetVersion",
          "datasetId": 6554864
        }
      ],
      "dockerImageVersionId": 30839,
      "isInternetEnabled": true,
      "language": "python",
      "sourceType": "notebook",
      "isGpuEnabled": false
    },
    "colab": {
      "provenance": [],
      "include_colab_link": true
    }
  },
  "nbformat_minor": 0,
  "nbformat": 4,
  "cells": [
    {
      "cell_type": "markdown",
      "metadata": {
        "id": "view-in-github",
        "colab_type": "text"
      },
      "source": [
        "<a href=\"https://colab.research.google.com/github/wastb/KIAM-Week6/blob/master/notebooks/Credit_Scoring_Models.ipynb\" target=\"_parent\"><img src=\"https://colab.research.google.com/assets/colab-badge.svg\" alt=\"Open In Colab\"/></a>"
      ]
    },
    {
      "cell_type": "markdown",
      "source": [
        "### ***Objectives***\n",
        "\n",
        "*The primary objectives of this project are as follows:*\n",
        "\n",
        "- *Develop a Credit Risk Model: Build and train machine learning models that assign risk probabilities to new customers based on historical transaction data.*\n",
        "\n",
        "- *Credit Scoring: Use the model's probability estimates to create a credit score for each customer, facilitating quick and accurate creditworthiness assessments.*\n",
        "\n",
        "- *Loan Optimization: Predict the optimal loan amount and duration for new customers, considering their risk profile to ensure sustainable lending practices*\n"
      ],
      "metadata": {
        "id": "ivKtBLARhNRG"
      }
    },
    {
      "cell_type": "code",
      "source": [
        "## import libraries\n",
        "\n",
        "import numpy as np\n",
        "import pandas as pd\n",
        "import matplotlib.pyplot as plt\n",
        "import seaborn as sns\n",
        "\n",
        "from sklearn.model_selection import train_test_split\n",
        "from sklearn.preprocessing import StandardScaler\n",
        "\n",
        "from imblearn.over_sampling import SMOTE\n",
        "\n",
        "from sklearn.linear_model import LogisticRegression\n",
        "from sklearn.ensemble import RandomForestClassifier\n",
        "from sklearn.model_selection import GridSearchCV\n",
        "\n",
        "from sklearn.metrics import (\n",
        "    accuracy_score,\n",
        "    precision_score,\n",
        "    recall_score,\n",
        "    f1_score,\n",
        "    roc_auc_score,\n",
        "    confusion_matrix,\n",
        "    roc_curve,\n",
        "    auc,\n",
        ")\n"
      ],
      "metadata": {
        "trusted": true,
        "execution": {
          "iopub.status.busy": "2025-01-27T09:57:46.171757Z",
          "iopub.execute_input": "2025-01-27T09:57:46.172279Z",
          "iopub.status.idle": "2025-01-27T09:57:48.571477Z",
          "shell.execute_reply.started": "2025-01-27T09:57:46.172225Z",
          "shell.execute_reply": "2025-01-27T09:57:48.569704Z"
        },
        "id": "2AEy98xrhNRI"
      },
      "outputs": [],
      "execution_count": 2
    },
    {
      "cell_type": "code",
      "source": [
        "from google.colab import drive\n",
        "drive.mount('/content/drive')"
      ],
      "metadata": {
        "colab": {
          "base_uri": "https://localhost:8080/"
        },
        "id": "bJsU_FpqhbbB",
        "outputId": "1a2fc489-3329-4d37-c352-de14c9e2eee4"
      },
      "execution_count": 3,
      "outputs": [
        {
          "output_type": "stream",
          "name": "stdout",
          "text": [
            "Mounted at /content/drive\n"
          ]
        }
      ]
    },
    {
      "cell_type": "code",
      "source": [
        "df = pd.read_csv('/content/drive/MyDrive/Google Colab Folder/woe_data.csv')\n",
        "df.head()"
      ],
      "metadata": {
        "trusted": true,
        "execution": {
          "iopub.status.busy": "2025-01-27T09:57:48.573138Z",
          "iopub.execute_input": "2025-01-27T09:57:48.573661Z",
          "iopub.status.idle": "2025-01-27T09:57:49.224954Z",
          "shell.execute_reply.started": "2025-01-27T09:57:48.573627Z",
          "shell.execute_reply": "2025-01-27T09:57:49.223680Z"
        },
        "colab": {
          "base_uri": "https://localhost:8080/",
          "height": 226
        },
        "id": "r_j5TDZEhNRJ",
        "outputId": "9120685f-dfe2-4b83-9c84-d3bd3ff6070c"
      },
      "outputs": [
        {
          "output_type": "execute_result",
          "data": {
            "text/plain": [
              "   Transaction_Day  Monetary  Frequency  Average_Transaction_Value  \\\n",
              "0               15  0.026998   0.028851                1553.336134   \n",
              "1               15  0.026998   0.028851                1553.336134   \n",
              "2               15  0.000139   0.000244                 500.000000   \n",
              "3               15  0.017162   0.009046                3092.710526   \n",
              "4               15  0.017162   0.009046                3092.710526   \n",
              "\n",
              "   Transaction_Year_woe  Transaction_Month_woe   Value  Transaction_Day_woe  \\\n",
              "0              0.820147              -0.267679  1000.0             0.125989   \n",
              "1              0.820147              -0.267679    20.0             0.125989   \n",
              "2              0.820147              -0.267679   500.0             0.125989   \n",
              "3              0.820147              -0.267679  1000.0             0.125989   \n",
              "4              0.820147              -0.267679   644.0             0.125989   \n",
              "\n",
              "   Recency  Transaction_Hour  Transaction_Month  \\\n",
              "0      1.0                 2                 11   \n",
              "1      1.0                 2                 11   \n",
              "2      1.0                 2                 11   \n",
              "3      1.0                 3                 11   \n",
              "4      1.0                 3                 11   \n",
              "\n",
              "   Average_Transaction_Value_woe  Transaction_Hour_woe  Stability  Value_woe  \\\n",
              "0                       0.059461              0.049337   0.277278   0.105123   \n",
              "1                       0.059461              0.049337   0.277278   0.105123   \n",
              "2                      -6.279989              0.049337   0.000000   0.105123   \n",
              "3                       0.059461              0.049337   0.483036   0.105123   \n",
              "4                       0.059461              0.049337   0.483036   0.105123   \n",
              "\n",
              "   Transaction_Year  RFMS_Score  BAD  \n",
              "0              2018    0.333282    0  \n",
              "1              2018    0.333282    0  \n",
              "2              2018    0.250096    1  \n",
              "3              2018    0.377311    0  \n",
              "4              2018    0.377311    0  "
            ],
            "text/html": [
              "\n",
              "  <div id=\"df-ca34d64b-cc2f-49ae-adee-09fe2a61f91c\" class=\"colab-df-container\">\n",
              "    <div>\n",
              "<style scoped>\n",
              "    .dataframe tbody tr th:only-of-type {\n",
              "        vertical-align: middle;\n",
              "    }\n",
              "\n",
              "    .dataframe tbody tr th {\n",
              "        vertical-align: top;\n",
              "    }\n",
              "\n",
              "    .dataframe thead th {\n",
              "        text-align: right;\n",
              "    }\n",
              "</style>\n",
              "<table border=\"1\" class=\"dataframe\">\n",
              "  <thead>\n",
              "    <tr style=\"text-align: right;\">\n",
              "      <th></th>\n",
              "      <th>Transaction_Day</th>\n",
              "      <th>Monetary</th>\n",
              "      <th>Frequency</th>\n",
              "      <th>Average_Transaction_Value</th>\n",
              "      <th>Transaction_Year_woe</th>\n",
              "      <th>Transaction_Month_woe</th>\n",
              "      <th>Value</th>\n",
              "      <th>Transaction_Day_woe</th>\n",
              "      <th>Recency</th>\n",
              "      <th>Transaction_Hour</th>\n",
              "      <th>Transaction_Month</th>\n",
              "      <th>Average_Transaction_Value_woe</th>\n",
              "      <th>Transaction_Hour_woe</th>\n",
              "      <th>Stability</th>\n",
              "      <th>Value_woe</th>\n",
              "      <th>Transaction_Year</th>\n",
              "      <th>RFMS_Score</th>\n",
              "      <th>BAD</th>\n",
              "    </tr>\n",
              "  </thead>\n",
              "  <tbody>\n",
              "    <tr>\n",
              "      <th>0</th>\n",
              "      <td>15</td>\n",
              "      <td>0.026998</td>\n",
              "      <td>0.028851</td>\n",
              "      <td>1553.336134</td>\n",
              "      <td>0.820147</td>\n",
              "      <td>-0.267679</td>\n",
              "      <td>1000.0</td>\n",
              "      <td>0.125989</td>\n",
              "      <td>1.0</td>\n",
              "      <td>2</td>\n",
              "      <td>11</td>\n",
              "      <td>0.059461</td>\n",
              "      <td>0.049337</td>\n",
              "      <td>0.277278</td>\n",
              "      <td>0.105123</td>\n",
              "      <td>2018</td>\n",
              "      <td>0.333282</td>\n",
              "      <td>0</td>\n",
              "    </tr>\n",
              "    <tr>\n",
              "      <th>1</th>\n",
              "      <td>15</td>\n",
              "      <td>0.026998</td>\n",
              "      <td>0.028851</td>\n",
              "      <td>1553.336134</td>\n",
              "      <td>0.820147</td>\n",
              "      <td>-0.267679</td>\n",
              "      <td>20.0</td>\n",
              "      <td>0.125989</td>\n",
              "      <td>1.0</td>\n",
              "      <td>2</td>\n",
              "      <td>11</td>\n",
              "      <td>0.059461</td>\n",
              "      <td>0.049337</td>\n",
              "      <td>0.277278</td>\n",
              "      <td>0.105123</td>\n",
              "      <td>2018</td>\n",
              "      <td>0.333282</td>\n",
              "      <td>0</td>\n",
              "    </tr>\n",
              "    <tr>\n",
              "      <th>2</th>\n",
              "      <td>15</td>\n",
              "      <td>0.000139</td>\n",
              "      <td>0.000244</td>\n",
              "      <td>500.000000</td>\n",
              "      <td>0.820147</td>\n",
              "      <td>-0.267679</td>\n",
              "      <td>500.0</td>\n",
              "      <td>0.125989</td>\n",
              "      <td>1.0</td>\n",
              "      <td>2</td>\n",
              "      <td>11</td>\n",
              "      <td>-6.279989</td>\n",
              "      <td>0.049337</td>\n",
              "      <td>0.000000</td>\n",
              "      <td>0.105123</td>\n",
              "      <td>2018</td>\n",
              "      <td>0.250096</td>\n",
              "      <td>1</td>\n",
              "    </tr>\n",
              "    <tr>\n",
              "      <th>3</th>\n",
              "      <td>15</td>\n",
              "      <td>0.017162</td>\n",
              "      <td>0.009046</td>\n",
              "      <td>3092.710526</td>\n",
              "      <td>0.820147</td>\n",
              "      <td>-0.267679</td>\n",
              "      <td>1000.0</td>\n",
              "      <td>0.125989</td>\n",
              "      <td>1.0</td>\n",
              "      <td>3</td>\n",
              "      <td>11</td>\n",
              "      <td>0.059461</td>\n",
              "      <td>0.049337</td>\n",
              "      <td>0.483036</td>\n",
              "      <td>0.105123</td>\n",
              "      <td>2018</td>\n",
              "      <td>0.377311</td>\n",
              "      <td>0</td>\n",
              "    </tr>\n",
              "    <tr>\n",
              "      <th>4</th>\n",
              "      <td>15</td>\n",
              "      <td>0.017162</td>\n",
              "      <td>0.009046</td>\n",
              "      <td>3092.710526</td>\n",
              "      <td>0.820147</td>\n",
              "      <td>-0.267679</td>\n",
              "      <td>644.0</td>\n",
              "      <td>0.125989</td>\n",
              "      <td>1.0</td>\n",
              "      <td>3</td>\n",
              "      <td>11</td>\n",
              "      <td>0.059461</td>\n",
              "      <td>0.049337</td>\n",
              "      <td>0.483036</td>\n",
              "      <td>0.105123</td>\n",
              "      <td>2018</td>\n",
              "      <td>0.377311</td>\n",
              "      <td>0</td>\n",
              "    </tr>\n",
              "  </tbody>\n",
              "</table>\n",
              "</div>\n",
              "    <div class=\"colab-df-buttons\">\n",
              "\n",
              "  <div class=\"colab-df-container\">\n",
              "    <button class=\"colab-df-convert\" onclick=\"convertToInteractive('df-ca34d64b-cc2f-49ae-adee-09fe2a61f91c')\"\n",
              "            title=\"Convert this dataframe to an interactive table.\"\n",
              "            style=\"display:none;\">\n",
              "\n",
              "  <svg xmlns=\"http://www.w3.org/2000/svg\" height=\"24px\" viewBox=\"0 -960 960 960\">\n",
              "    <path d=\"M120-120v-720h720v720H120Zm60-500h600v-160H180v160Zm220 220h160v-160H400v160Zm0 220h160v-160H400v160ZM180-400h160v-160H180v160Zm440 0h160v-160H620v160ZM180-180h160v-160H180v160Zm440 0h160v-160H620v160Z\"/>\n",
              "  </svg>\n",
              "    </button>\n",
              "\n",
              "  <style>\n",
              "    .colab-df-container {\n",
              "      display:flex;\n",
              "      gap: 12px;\n",
              "    }\n",
              "\n",
              "    .colab-df-convert {\n",
              "      background-color: #E8F0FE;\n",
              "      border: none;\n",
              "      border-radius: 50%;\n",
              "      cursor: pointer;\n",
              "      display: none;\n",
              "      fill: #1967D2;\n",
              "      height: 32px;\n",
              "      padding: 0 0 0 0;\n",
              "      width: 32px;\n",
              "    }\n",
              "\n",
              "    .colab-df-convert:hover {\n",
              "      background-color: #E2EBFA;\n",
              "      box-shadow: 0px 1px 2px rgba(60, 64, 67, 0.3), 0px 1px 3px 1px rgba(60, 64, 67, 0.15);\n",
              "      fill: #174EA6;\n",
              "    }\n",
              "\n",
              "    .colab-df-buttons div {\n",
              "      margin-bottom: 4px;\n",
              "    }\n",
              "\n",
              "    [theme=dark] .colab-df-convert {\n",
              "      background-color: #3B4455;\n",
              "      fill: #D2E3FC;\n",
              "    }\n",
              "\n",
              "    [theme=dark] .colab-df-convert:hover {\n",
              "      background-color: #434B5C;\n",
              "      box-shadow: 0px 1px 3px 1px rgba(0, 0, 0, 0.15);\n",
              "      filter: drop-shadow(0px 1px 2px rgba(0, 0, 0, 0.3));\n",
              "      fill: #FFFFFF;\n",
              "    }\n",
              "  </style>\n",
              "\n",
              "    <script>\n",
              "      const buttonEl =\n",
              "        document.querySelector('#df-ca34d64b-cc2f-49ae-adee-09fe2a61f91c button.colab-df-convert');\n",
              "      buttonEl.style.display =\n",
              "        google.colab.kernel.accessAllowed ? 'block' : 'none';\n",
              "\n",
              "      async function convertToInteractive(key) {\n",
              "        const element = document.querySelector('#df-ca34d64b-cc2f-49ae-adee-09fe2a61f91c');\n",
              "        const dataTable =\n",
              "          await google.colab.kernel.invokeFunction('convertToInteractive',\n",
              "                                                    [key], {});\n",
              "        if (!dataTable) return;\n",
              "\n",
              "        const docLinkHtml = 'Like what you see? Visit the ' +\n",
              "          '<a target=\"_blank\" href=https://colab.research.google.com/notebooks/data_table.ipynb>data table notebook</a>'\n",
              "          + ' to learn more about interactive tables.';\n",
              "        element.innerHTML = '';\n",
              "        dataTable['output_type'] = 'display_data';\n",
              "        await google.colab.output.renderOutput(dataTable, element);\n",
              "        const docLink = document.createElement('div');\n",
              "        docLink.innerHTML = docLinkHtml;\n",
              "        element.appendChild(docLink);\n",
              "      }\n",
              "    </script>\n",
              "  </div>\n",
              "\n",
              "\n",
              "<div id=\"df-390228f7-fccc-4eec-9f26-5966a150f28b\">\n",
              "  <button class=\"colab-df-quickchart\" onclick=\"quickchart('df-390228f7-fccc-4eec-9f26-5966a150f28b')\"\n",
              "            title=\"Suggest charts\"\n",
              "            style=\"display:none;\">\n",
              "\n",
              "<svg xmlns=\"http://www.w3.org/2000/svg\" height=\"24px\"viewBox=\"0 0 24 24\"\n",
              "     width=\"24px\">\n",
              "    <g>\n",
              "        <path d=\"M19 3H5c-1.1 0-2 .9-2 2v14c0 1.1.9 2 2 2h14c1.1 0 2-.9 2-2V5c0-1.1-.9-2-2-2zM9 17H7v-7h2v7zm4 0h-2V7h2v10zm4 0h-2v-4h2v4z\"/>\n",
              "    </g>\n",
              "</svg>\n",
              "  </button>\n",
              "\n",
              "<style>\n",
              "  .colab-df-quickchart {\n",
              "      --bg-color: #E8F0FE;\n",
              "      --fill-color: #1967D2;\n",
              "      --hover-bg-color: #E2EBFA;\n",
              "      --hover-fill-color: #174EA6;\n",
              "      --disabled-fill-color: #AAA;\n",
              "      --disabled-bg-color: #DDD;\n",
              "  }\n",
              "\n",
              "  [theme=dark] .colab-df-quickchart {\n",
              "      --bg-color: #3B4455;\n",
              "      --fill-color: #D2E3FC;\n",
              "      --hover-bg-color: #434B5C;\n",
              "      --hover-fill-color: #FFFFFF;\n",
              "      --disabled-bg-color: #3B4455;\n",
              "      --disabled-fill-color: #666;\n",
              "  }\n",
              "\n",
              "  .colab-df-quickchart {\n",
              "    background-color: var(--bg-color);\n",
              "    border: none;\n",
              "    border-radius: 50%;\n",
              "    cursor: pointer;\n",
              "    display: none;\n",
              "    fill: var(--fill-color);\n",
              "    height: 32px;\n",
              "    padding: 0;\n",
              "    width: 32px;\n",
              "  }\n",
              "\n",
              "  .colab-df-quickchart:hover {\n",
              "    background-color: var(--hover-bg-color);\n",
              "    box-shadow: 0 1px 2px rgba(60, 64, 67, 0.3), 0 1px 3px 1px rgba(60, 64, 67, 0.15);\n",
              "    fill: var(--button-hover-fill-color);\n",
              "  }\n",
              "\n",
              "  .colab-df-quickchart-complete:disabled,\n",
              "  .colab-df-quickchart-complete:disabled:hover {\n",
              "    background-color: var(--disabled-bg-color);\n",
              "    fill: var(--disabled-fill-color);\n",
              "    box-shadow: none;\n",
              "  }\n",
              "\n",
              "  .colab-df-spinner {\n",
              "    border: 2px solid var(--fill-color);\n",
              "    border-color: transparent;\n",
              "    border-bottom-color: var(--fill-color);\n",
              "    animation:\n",
              "      spin 1s steps(1) infinite;\n",
              "  }\n",
              "\n",
              "  @keyframes spin {\n",
              "    0% {\n",
              "      border-color: transparent;\n",
              "      border-bottom-color: var(--fill-color);\n",
              "      border-left-color: var(--fill-color);\n",
              "    }\n",
              "    20% {\n",
              "      border-color: transparent;\n",
              "      border-left-color: var(--fill-color);\n",
              "      border-top-color: var(--fill-color);\n",
              "    }\n",
              "    30% {\n",
              "      border-color: transparent;\n",
              "      border-left-color: var(--fill-color);\n",
              "      border-top-color: var(--fill-color);\n",
              "      border-right-color: var(--fill-color);\n",
              "    }\n",
              "    40% {\n",
              "      border-color: transparent;\n",
              "      border-right-color: var(--fill-color);\n",
              "      border-top-color: var(--fill-color);\n",
              "    }\n",
              "    60% {\n",
              "      border-color: transparent;\n",
              "      border-right-color: var(--fill-color);\n",
              "    }\n",
              "    80% {\n",
              "      border-color: transparent;\n",
              "      border-right-color: var(--fill-color);\n",
              "      border-bottom-color: var(--fill-color);\n",
              "    }\n",
              "    90% {\n",
              "      border-color: transparent;\n",
              "      border-bottom-color: var(--fill-color);\n",
              "    }\n",
              "  }\n",
              "</style>\n",
              "\n",
              "  <script>\n",
              "    async function quickchart(key) {\n",
              "      const quickchartButtonEl =\n",
              "        document.querySelector('#' + key + ' button');\n",
              "      quickchartButtonEl.disabled = true;  // To prevent multiple clicks.\n",
              "      quickchartButtonEl.classList.add('colab-df-spinner');\n",
              "      try {\n",
              "        const charts = await google.colab.kernel.invokeFunction(\n",
              "            'suggestCharts', [key], {});\n",
              "      } catch (error) {\n",
              "        console.error('Error during call to suggestCharts:', error);\n",
              "      }\n",
              "      quickchartButtonEl.classList.remove('colab-df-spinner');\n",
              "      quickchartButtonEl.classList.add('colab-df-quickchart-complete');\n",
              "    }\n",
              "    (() => {\n",
              "      let quickchartButtonEl =\n",
              "        document.querySelector('#df-390228f7-fccc-4eec-9f26-5966a150f28b button');\n",
              "      quickchartButtonEl.style.display =\n",
              "        google.colab.kernel.accessAllowed ? 'block' : 'none';\n",
              "    })();\n",
              "  </script>\n",
              "</div>\n",
              "\n",
              "    </div>\n",
              "  </div>\n"
            ],
            "application/vnd.google.colaboratory.intrinsic+json": {
              "type": "dataframe",
              "variable_name": "df",
              "summary": "{\n  \"name\": \"df\",\n  \"rows\": 95662,\n  \"fields\": [\n    {\n      \"column\": \"Transaction_Day\",\n      \"properties\": {\n        \"dtype\": \"number\",\n        \"std\": 8,\n        \"min\": 1,\n        \"max\": 31,\n        \"num_unique_values\": 31,\n        \"samples\": [\n          12,\n          30,\n          8\n        ],\n        \"semantic_type\": \"\",\n        \"description\": \"\"\n      }\n    },\n    {\n      \"column\": \"Monetary\",\n      \"properties\": {\n        \"dtype\": \"number\",\n        \"std\": 0.20018766170105412,\n        \"min\": 0.0,\n        \"max\": 1.0,\n        \"num_unique_values\": 1758,\n        \"samples\": [\n          0.0064207919707229,\n          0.0152516818968728,\n          0.0013294472567367\n        ],\n        \"semantic_type\": \"\",\n        \"description\": \"\"\n      }\n    },\n    {\n      \"column\": \"Frequency\",\n      \"properties\": {\n        \"dtype\": \"number\",\n        \"std\": 0.21482422289374645,\n        \"min\": 0.0,\n        \"max\": 1.0,\n        \"num_unique_values\": 221,\n        \"samples\": [\n          0.0114914425427872,\n          0.006601466992665,\n          0.0244498777506112\n        ],\n        \"semantic_type\": \"\",\n        \"description\": \"\"\n      }\n    },\n    {\n      \"column\": \"Average_Transaction_Value\",\n      \"properties\": {\n        \"dtype\": \"number\",\n        \"std\": 1862.6496135587547,\n        \"min\": 50.0,\n        \"max\": 12000.0,\n        \"num_unique_values\": 1912,\n        \"samples\": [\n          1826.1973684210527,\n          2803.52,\n          1003.5714285714286\n        ],\n        \"semantic_type\": \"\",\n        \"description\": \"\"\n      }\n    },\n    {\n      \"column\": \"Transaction_Year_woe\",\n      \"properties\": {\n        \"dtype\": \"number\",\n        \"std\": 1.264241853093247,\n        \"min\": -1.708365359105117,\n        \"max\": 0.8201472270538092,\n        \"num_unique_values\": 2,\n        \"samples\": [\n          -1.708365359105117,\n          0.8201472270538092\n        ],\n        \"semantic_type\": \"\",\n        \"description\": \"\"\n      }\n    },\n    {\n      \"column\": \"Transaction_Month_woe\",\n      \"properties\": {\n        \"dtype\": \"number\",\n        \"std\": 0.31248160411708004,\n        \"min\": -0.2676789597137363,\n        \"max\": 0.3786445311471678,\n        \"num_unique_values\": 2,\n        \"samples\": [\n          0.3786445311471678,\n          -0.2676789597137363\n        ],\n        \"semantic_type\": \"\",\n        \"description\": \"\"\n      }\n    },\n    {\n      \"column\": \"Value\",\n      \"properties\": {\n        \"dtype\": \"number\",\n        \"std\": 3116.839523849185,\n        \"min\": 2.0,\n        \"max\": 12050.0,\n        \"num_unique_values\": 1025,\n        \"samples\": [\n          49.0,\n          543.0\n        ],\n        \"semantic_type\": \"\",\n        \"description\": \"\"\n      }\n    },\n    {\n      \"column\": \"Transaction_Day_woe\",\n      \"properties\": {\n        \"dtype\": \"number\",\n        \"std\": 0.4124312509472548,\n        \"min\": -1.9741751936808696,\n        \"max\": 0.7595267497911201,\n        \"num_unique_values\": 5,\n        \"samples\": [\n          -0.5475503887396107,\n          -1.9741751936808696\n        ],\n        \"semantic_type\": \"\",\n        \"description\": \"\"\n      }\n    },\n    {\n      \"column\": \"Recency\",\n      \"properties\": {\n        \"dtype\": \"number\",\n        \"std\": 0.28431858754677547,\n        \"min\": 0.0,\n        \"max\": 1.0,\n        \"num_unique_values\": 91,\n        \"samples\": [\n          0.5555555555555556,\n          0.7555555555555555\n        ],\n        \"semantic_type\": \"\",\n        \"description\": \"\"\n      }\n    },\n    {\n      \"column\": \"Transaction_Hour\",\n      \"properties\": {\n        \"dtype\": \"number\",\n        \"std\": 4,\n        \"min\": 0,\n        \"max\": 23,\n        \"num_unique_values\": 24,\n        \"samples\": [\n          10,\n          18\n        ],\n        \"semantic_type\": \"\",\n        \"description\": \"\"\n      }\n    },\n    {\n      \"column\": \"Transaction_Month\",\n      \"properties\": {\n        \"dtype\": \"number\",\n        \"std\": 5,\n        \"min\": 1,\n        \"max\": 12,\n        \"num_unique_values\": 4,\n        \"samples\": [\n          12,\n          2\n        ],\n        \"semantic_type\": \"\",\n        \"description\": \"\"\n      }\n    },\n    {\n      \"column\": \"Average_Transaction_Value_woe\",\n      \"properties\": {\n        \"dtype\": \"number\",\n        \"std\": 0.8567579173067293,\n        \"min\": -6.279989138404273,\n        \"max\": 0.0774967822754921,\n        \"num_unique_values\": 9,\n        \"samples\": [\n          -1.307515757457311,\n          -6.279989138404273\n        ],\n        \"semantic_type\": \"\",\n        \"description\": \"\"\n      }\n    },\n    {\n      \"column\": \"Transaction_Hour_woe\",\n      \"properties\": {\n        \"dtype\": \"number\",\n        \"std\": 0.15833869019198202,\n        \"min\": -0.8509752713142289,\n        \"max\": 0.0493370840492626,\n        \"num_unique_values\": 6,\n        \"samples\": [\n          0.0493370840492626,\n          -0.0292831997850393\n        ],\n        \"semantic_type\": \"\",\n        \"description\": \"\"\n      }\n    },\n    {\n      \"column\": \"Stability\",\n      \"properties\": {\n        \"dtype\": \"number\",\n        \"std\": 0.13747305449190694,\n        \"min\": 0.0,\n        \"max\": 1.0,\n        \"num_unique_values\": 2114,\n        \"samples\": [\n          0.3938036350714085,\n          0.1569924637878902\n        ],\n        \"semantic_type\": \"\",\n        \"description\": \"\"\n      }\n    },\n    {\n      \"column\": \"Value_woe\",\n      \"properties\": {\n        \"dtype\": \"number\",\n        \"std\": 0.14745630999076315,\n        \"min\": -0.201501722768115,\n        \"max\": 1.143024304067637,\n        \"num_unique_values\": 3,\n        \"samples\": [\n          0.1051231461480636,\n          -0.201501722768115\n        ],\n        \"semantic_type\": \"\",\n        \"description\": \"\"\n      }\n    },\n    {\n      \"column\": \"Transaction_Year\",\n      \"properties\": {\n        \"dtype\": \"number\",\n        \"std\": 0,\n        \"min\": 2018,\n        \"max\": 2019,\n        \"num_unique_values\": 2,\n        \"samples\": [\n          2019,\n          2018\n        ],\n        \"semantic_type\": \"\",\n        \"description\": \"\"\n      }\n    },\n    {\n      \"column\": \"RFMS_Score\",\n      \"properties\": {\n        \"dtype\": \"number\",\n        \"std\": 0.13345654048162497,\n        \"min\": 7.122038875375277e-05,\n        \"max\": 0.8212507432918186,\n        \"num_unique_values\": 20864,\n        \"samples\": [\n          0.307685804453517,\n          0.0547596564829764\n        ],\n        \"semantic_type\": \"\",\n        \"description\": \"\"\n      }\n    },\n    {\n      \"column\": \"BAD\",\n      \"properties\": {\n        \"dtype\": \"number\",\n        \"std\": 0,\n        \"min\": 0,\n        \"max\": 1,\n        \"num_unique_values\": 2,\n        \"samples\": [\n          1,\n          0\n        ],\n        \"semantic_type\": \"\",\n        \"description\": \"\"\n      }\n    }\n  ]\n}"
            }
          },
          "metadata": {},
          "execution_count": 4
        }
      ],
      "execution_count": 4
    },
    {
      "cell_type": "code",
      "source": [
        "## Define Features and Target Variable\n",
        "X = df.drop(columns='BAD')\n",
        "y = df['BAD']"
      ],
      "metadata": {
        "trusted": true,
        "execution": {
          "iopub.status.busy": "2025-01-27T09:57:49.227617Z",
          "iopub.execute_input": "2025-01-27T09:57:49.228325Z",
          "iopub.status.idle": "2025-01-27T09:57:49.245799Z",
          "shell.execute_reply.started": "2025-01-27T09:57:49.228287Z",
          "shell.execute_reply": "2025-01-27T09:57:49.244207Z"
        },
        "id": "QZ_08k8WhNRJ"
      },
      "outputs": [],
      "execution_count": 5
    },
    {
      "cell_type": "code",
      "source": [
        "# Split the data into training and testing sets\n",
        "X_train, X_test, y_train, y_test = train_test_split(X, y, test_size=0.2, random_state=42)"
      ],
      "metadata": {
        "trusted": true,
        "execution": {
          "iopub.status.busy": "2025-01-27T09:57:49.247507Z",
          "iopub.execute_input": "2025-01-27T09:57:49.248124Z",
          "iopub.status.idle": "2025-01-27T09:57:49.285228Z",
          "shell.execute_reply.started": "2025-01-27T09:57:49.248076Z",
          "shell.execute_reply": "2025-01-27T09:57:49.284034Z"
        },
        "id": "aPdnYL1lhNRK"
      },
      "outputs": [],
      "execution_count": 6
    },
    {
      "cell_type": "markdown",
      "source": [
        "#### ***Balancing Imbalanced Data***"
      ],
      "metadata": {
        "id": "rERWIanvhNRK"
      }
    },
    {
      "cell_type": "code",
      "source": [
        "# Apply SMOTE to oversample the minority class\n",
        "smote = SMOTE(sampling_strategy='auto', random_state=42)  # 'auto' balances the classes\n",
        "X_train_smote, y_train_smote = smote.fit_resample(X_train, y_train)\n",
        "\n",
        "print(f\"Before SMOTE: {y_train.value_counts()}\")\n",
        "print(f\"After SMOTE: {y_train_smote.value_counts()}\")"
      ],
      "metadata": {
        "trusted": true,
        "execution": {
          "iopub.status.busy": "2025-01-27T09:57:49.286286Z",
          "iopub.execute_input": "2025-01-27T09:57:49.286651Z",
          "iopub.status.idle": "2025-01-27T09:57:50.141056Z",
          "shell.execute_reply.started": "2025-01-27T09:57:49.286606Z",
          "shell.execute_reply": "2025-01-27T09:57:50.139821Z"
        },
        "colab": {
          "base_uri": "https://localhost:8080/"
        },
        "id": "9cMJHBb1hNRK",
        "outputId": "1a9a8f35-fb90-4839-aa4f-0b5042af1765"
      },
      "outputs": [
        {
          "output_type": "stream",
          "name": "stdout",
          "text": [
            "Before SMOTE: BAD\n",
            "1    59475\n",
            "0    17054\n",
            "Name: count, dtype: int64\n",
            "After SMOTE: BAD\n",
            "1    59475\n",
            "0    59475\n",
            "Name: count, dtype: int64\n"
          ]
        }
      ],
      "execution_count": 7
    },
    {
      "cell_type": "code",
      "source": [
        "# Scale the features\n",
        "scaler = StandardScaler()\n",
        "X_train_scaled = scaler.fit_transform(X_train_smote)\n",
        "X_test = scaler.transform(X_test)"
      ],
      "metadata": {
        "trusted": true,
        "execution": {
          "iopub.status.busy": "2025-01-27T09:57:50.142329Z",
          "iopub.execute_input": "2025-01-27T09:57:50.142842Z",
          "iopub.status.idle": "2025-01-27T09:57:50.248221Z",
          "shell.execute_reply.started": "2025-01-27T09:57:50.142793Z",
          "shell.execute_reply": "2025-01-27T09:57:50.247146Z"
        },
        "id": "U8zXZyCMhNRK"
      },
      "outputs": [],
      "execution_count": 8
    },
    {
      "cell_type": "code",
      "source": [
        "## Display the size of the train and test sets\n",
        "print(f\"Training set size: {X_train_scaled.shape[0]} samples\")\n",
        "print(f\"Testing set size: {X_test.shape[0]} samples\")"
      ],
      "metadata": {
        "trusted": true,
        "execution": {
          "iopub.status.busy": "2025-01-27T09:57:50.249541Z",
          "iopub.execute_input": "2025-01-27T09:57:50.249993Z",
          "iopub.status.idle": "2025-01-27T09:57:50.256107Z",
          "shell.execute_reply.started": "2025-01-27T09:57:50.249956Z",
          "shell.execute_reply": "2025-01-27T09:57:50.254827Z"
        },
        "colab": {
          "base_uri": "https://localhost:8080/"
        },
        "id": "418ukl_rhNRK",
        "outputId": "9c5d0387-3d01-479e-b286-cf4fd22ac67d"
      },
      "outputs": [
        {
          "output_type": "stream",
          "name": "stdout",
          "text": [
            "Training set size: 118950 samples\n",
            "Testing set size: 19133 samples\n"
          ]
        }
      ],
      "execution_count": 9
    },
    {
      "cell_type": "code",
      "source": [
        "# Define a function to evaluate the model performance\n",
        "def evaluate_model(y_true, y_preds, y_proba, model_name):\n",
        "    accuracy = accuracy_score(y_true, y_preds)\n",
        "    precision = precision_score(y_true, y_preds)\n",
        "    recall = recall_score(y_true, y_preds)\n",
        "    f1 = f1_score(y_true, y_preds)\n",
        "    roc_auc = roc_auc_score(y_true, y_preds)\n",
        "\n",
        "    print(f\"{model_name} Performance:\")\n",
        "    print(f\"Accuracy: {accuracy:.4f}\")\n",
        "    print(f\"Precision: {precision:.4f}\")\n",
        "    print(f\"Recall: {recall:.4f}\")\n",
        "    print(f\"F1 Score: {f1:.4f}\")\n",
        "    print(f\"ROC-AUC: {roc_auc:.4f}\")\n",
        "    print(f\"Confusion Matrix:\\n{confusion_matrix(y_true, y_preds)}\\n\")\n",
        "\n",
        "    # Confusion Matrix\n",
        "    cm = confusion_matrix(y_true, y_preds)\n",
        "    print(f\"Confusion Matrix:\\n{cm}\\n\")\n",
        "    # Plot confusion matrix\n",
        "    plt.figure(figsize=(6,6))\n",
        "    sns.heatmap(cm, annot=True, fmt=\"d\", cmap=\"Blues\", cbar=False)\n",
        "    plt.title(f\"{model_name} Confusion Matrix\")\n",
        "    plt.ylabel('Actual')\n",
        "    plt.xlabel('Predicted')\n",
        "    plt.show()\n",
        "\n",
        "    # ROC Curve\n",
        "    fpr, tpr, _ = roc_curve(y_true, y_proba)\n",
        "    plt.figure(figsize=(6,6))\n",
        "    plt.plot(fpr, tpr, label=f\"ROC curve (area = {roc_auc:.4f})\")\n",
        "    plt.plot([0, 1], [0, 1], 'k--', lw=2)\n",
        "    plt.xlim([0.0, 1.0])\n",
        "    plt.ylim([0.0, 1.05])\n",
        "    plt.xlabel('False Positive Rate')\n",
        "    plt.ylabel('True Positive Rate')\n",
        "    plt.title(f\"{model_name} ROC Curve\")\n",
        "    plt.legend(loc=\"lower right\")\n",
        "    plt.show()"
      ],
      "metadata": {
        "trusted": true,
        "execution": {
          "iopub.status.busy": "2025-01-27T09:57:50.258834Z",
          "iopub.execute_input": "2025-01-27T09:57:50.259267Z",
          "iopub.status.idle": "2025-01-27T09:57:50.279940Z",
          "shell.execute_reply.started": "2025-01-27T09:57:50.259212Z",
          "shell.execute_reply": "2025-01-27T09:57:50.278459Z"
        },
        "id": "YkAfi0qshNRL"
      },
      "outputs": [],
      "execution_count": 10
    },
    {
      "cell_type": "markdown",
      "source": [
        "#### ***Model Selection and Training***"
      ],
      "metadata": {
        "id": "hPyxPY8ZhNRL"
      }
    },
    {
      "cell_type": "markdown",
      "source": [
        "#### ***1. Logistic Regression***"
      ],
      "metadata": {
        "id": "QxmOgXFThNRL"
      }
    },
    {
      "cell_type": "code",
      "source": [
        "# Initialize the model\n",
        "log_reg = LogisticRegression()\n",
        "param_grid = [\n",
        "    {'penalty':['l1','l2'],\n",
        "    'C' : np.logspace(-4,4,3),\n",
        "    'solver': ['liblinear','saga'],\n",
        "    'max_iter'  : [100,1000,2000]\n",
        "}\n",
        "]\n",
        "clf = GridSearchCV(log_reg, param_grid = param_grid, cv = 3, verbose=True,n_jobs=-1)"
      ],
      "metadata": {
        "trusted": true,
        "execution": {
          "iopub.status.busy": "2025-01-27T09:57:50.281462Z",
          "iopub.execute_input": "2025-01-27T09:57:50.281908Z",
          "iopub.status.idle": "2025-01-27T09:57:50.307956Z",
          "shell.execute_reply.started": "2025-01-27T09:57:50.281873Z",
          "shell.execute_reply": "2025-01-27T09:57:50.306404Z"
        },
        "id": "pRXVwBLFhNRL"
      },
      "outputs": [],
      "execution_count": 17
    },
    {
      "cell_type": "code",
      "source": [
        "# Train Logistic Regression\n",
        "best_clf = clf.fit(X_train_scaled, y_train_smote)"
      ],
      "metadata": {
        "trusted": true,
        "execution": {
          "iopub.status.busy": "2025-01-27T10:31:50.049279Z",
          "iopub.execute_input": "2025-01-27T10:31:50.049693Z"
        },
        "colab": {
          "base_uri": "https://localhost:8080/"
        },
        "id": "SlrUhauxhNRL",
        "outputId": "ee77267f-16ce-4437-e680-d8076953a3e8"
      },
      "outputs": [
        {
          "output_type": "stream",
          "name": "stdout",
          "text": [
            "Fitting 3 folds for each of 36 candidates, totalling 108 fits\n"
          ]
        }
      ],
      "execution_count": 18
    },
    {
      "cell_type": "code",
      "source": [
        "# Get the best estimator (model)\n",
        "best_log_reg = best_clf.best_estimator_\n",
        "\n",
        "# Make predictions with the best model\n",
        "y_pred_lg = best_log_reg.predict(X_test)\n",
        "y_prob_lg = best_log_reg.predict_proba(X_test)[:, 1]"
      ],
      "metadata": {
        "trusted": true,
        "id": "Zafe_SX6hNRM"
      },
      "outputs": [],
      "execution_count": 19
    },
    {
      "cell_type": "markdown",
      "source": [
        "#### ***Model Evaluation***"
      ],
      "metadata": {
        "id": "4nRrlBduhNRM"
      }
    },
    {
      "cell_type": "code",
      "source": [
        "evaluate_model(y_test, y_pred_lg, y_prob_lg, \"Logistic Regression\")"
      ],
      "metadata": {
        "trusted": true,
        "colab": {
          "base_uri": "https://localhost:8080/",
          "height": 1000
        },
        "id": "gvNfG5bmhNRM",
        "outputId": "92ddf5d7-410d-4ff7-ff02-03fcfdbf91ff"
      },
      "outputs": [
        {
          "output_type": "stream",
          "name": "stdout",
          "text": [
            "Logistic Regression Performance:\n",
            "Accuracy: 0.9997\n",
            "Precision: 0.9999\n",
            "Recall: 0.9997\n",
            "F1 Score: 0.9998\n",
            "ROC-AUC: 0.9996\n",
            "Confusion Matrix:\n",
            "[[ 4274     2]\n",
            " [    4 14853]]\n",
            "\n",
            "Confusion Matrix:\n",
            "[[ 4274     2]\n",
            " [    4 14853]]\n",
            "\n"
          ]
        },
        {
          "output_type": "display_data",
          "data": {
            "text/plain": [
              "<Figure size 600x600 with 1 Axes>"
            ],
            "image/png": "[encoded data removed]"
          },
          "metadata": {}
        },
        {
          "output_type": "display_data",
          "data": {
            "text/plain": [
              "<Figure size 600x600 with 1 Axes>"
            ],
            "image/png": "[encoded data removed]"
          },
          "metadata": {}
        }
      ],
      "execution_count": 20
    },
    {
      "cell_type": "markdown",
      "source": [
        "#### ***Credit Scoring Using Logistic Regression***"
      ],
      "metadata": {
        "id": "Yoo96soxhNRM"
      }
    },
    {
      "cell_type": "code",
      "source": [
        "# Function to map probabilities to credit score\n",
        "def risk_to_credit_score(probability):\n",
        "    min_score = 300\n",
        "    max_score = 850\n",
        "    return min_score + (max_score - min_score) * (1 - probability)  # Inverse of risk\n",
        "\n",
        "# Apply function to risk probabilities\n",
        "credit_scores = [risk_to_credit_score(prob) for prob in y_prob_lg]\n",
        "\n",
        "# Show mapped credit scores\n",
        "df_credit_scores = pd.DataFrame({'index': range(len(X_test)), 'RiskProbability': y_prob_lg, 'CreditScore': credit_scores})\n",
        "print(df_credit_scores)\n"
      ],
      "metadata": {
        "trusted": true,
        "colab": {
          "base_uri": "https://localhost:8080/"
        },
        "id": "FVfXWiDWhNRM",
        "outputId": "6a2e6bc4-5eb2-4d15-b64c-64937495a37b"
      },
      "outputs": [
        {
          "output_type": "stream",
          "name": "stdout",
          "text": [
            "       index  RiskProbability  CreditScore\n",
            "0          0              1.0        300.0\n",
            "1          1              1.0        300.0\n",
            "2          2              1.0        300.0\n",
            "3          3              1.0        300.0\n",
            "4          4              1.0        300.0\n",
            "...      ...              ...          ...\n",
            "19128  19128              1.0        300.0\n",
            "19129  19129              1.0        300.0\n",
            "19130  19130              1.0        300.0\n",
            "19131  19131              1.0        300.0\n",
            "19132  19132              1.0        300.0\n",
            "\n",
            "[19133 rows x 3 columns]\n"
          ]
        }
      ],
      "execution_count": 25
    },
    {
      "cell_type": "code",
      "source": [
        "# Save the trained model\n",
        "joblib.dump(best_log_reg, 'Logistic_Regression_model.pkl')"
      ],
      "metadata": {
        "colab": {
          "base_uri": "https://localhost:8080/"
        },
        "id": "CJfiNjKNzXM4",
        "outputId": "108b0704-9302-4fcd-f9fe-66a0e50367ea"
      },
      "execution_count": 38,
      "outputs": [
        {
          "output_type": "execute_result",
          "data": {
            "text/plain": [
              "['Logistic_Regression_model.pkl']"
            ]
          },
          "metadata": {},
          "execution_count": 38
        }
      ]
    },
    {
      "cell_type": "markdown",
      "source": [
        "#### ***2. Random Forest Classifier***"
      ],
      "metadata": {
        "id": "FEG2KHeNv1Fi"
      }
    },
    {
      "cell_type": "code",
      "source": [
        "## Initialize the model\n",
        "rf = RandomForestClassifier()\n",
        "\n",
        "param_grid = {\n",
        "    'n_estimators': [50, 100],\n",
        "    'max_features': ['sqrt', 'log2']\n",
        "}\n",
        "\n",
        "## Grid search parameter tuning\n",
        "grid_search = GridSearchCV(rf, param_grid=param_grid,cv = 3, verbose=True, n_jobs=-1)"
      ],
      "metadata": {
        "id": "htGKy454v5dl"
      },
      "execution_count": 29,
      "outputs": []
    },
    {
      "cell_type": "code",
      "source": [
        "# Train Logistic Regression\n",
        "best_rf = grid_search.fit(X_train_scaled, y_train_smote)"
      ],
      "metadata": {
        "colab": {
          "base_uri": "https://localhost:8080/"
        },
        "id": "VxR3cvUKwtOI",
        "outputId": "814697c4-97ff-4eba-c029-817a2fd96cab"
      },
      "execution_count": 30,
      "outputs": [
        {
          "output_type": "stream",
          "name": "stdout",
          "text": [
            "Fitting 3 folds for each of 4 candidates, totalling 12 fits\n"
          ]
        }
      ]
    },
    {
      "cell_type": "code",
      "source": [
        "# Get the best estimator (model)\n",
        "best_rf_classifier = best_rf.best_estimator_\n",
        "\n",
        "# Make predictions with the best model\n",
        "y_pred_rf = best_rf_classifier.predict(X_test)\n",
        "y_prob_rf = best_rf_classifier.predict_proba(X_test)[:, 1]"
      ],
      "metadata": {
        "id": "WdKN8Fwfxudm"
      },
      "execution_count": 34,
      "outputs": []
    },
    {
      "cell_type": "markdown",
      "source": [
        "#### ***Model Evaluation***"
      ],
      "metadata": {
        "id": "U4dok1IOyF-0"
      }
    },
    {
      "cell_type": "code",
      "source": [
        "## Use the above defined function\n",
        "evaluate_model(y_test, y_pred_rf, y_prob_rf, \"Random Forest Classifier\")"
      ],
      "metadata": {
        "colab": {
          "base_uri": "https://localhost:8080/",
          "height": 1000
        },
        "id": "ZzZj_5-CyAdM",
        "outputId": "f578f7c8-6c34-4bd4-b8da-185d752b75ba"
      },
      "execution_count": 35,
      "outputs": [
        {
          "output_type": "stream",
          "name": "stdout",
          "text": [
            "Random Forest Classifier Performance:\n",
            "Accuracy: 1.0000\n",
            "Precision: 1.0000\n",
            "Recall: 1.0000\n",
            "F1 Score: 1.0000\n",
            "ROC-AUC: 1.0000\n",
            "Confusion Matrix:\n",
            "[[ 4276     0]\n",
            " [    0 14857]]\n",
            "\n",
            "Confusion Matrix:\n",
            "[[ 4276     0]\n",
            " [    0 14857]]\n",
            "\n"
          ]
        },
        {
          "output_type": "display_data",
          "data": {
            "text/plain": [
              "<Figure size 600x600 with 1 Axes>"
            ],
            "image/png": "[encoded data removed]"
          },
          "metadata": {}
        },
        {
          "output_type": "display_data",
          "data": {
            "text/plain": [
              "<Figure size 600x600 with 1 Axes>"
            ],
            "image/png": "[encoded data removed]"
          },
          "metadata": {}
        }
      ]
    },
    {
      "cell_type": "markdown",
      "source": [
        "#### ***Credit Scoring Using Random Forest Classifier***"
      ],
      "metadata": {
        "id": "dtzybuCMyc_r"
      }
    },
    {
      "cell_type": "code",
      "source": [
        "# Show mapped credit scores\n",
        "df_credit_scores_rf = pd.DataFrame({'index': range(len(X_test)), 'RiskProbability': y_prob_rf, 'CreditScore': credit_scores})\n",
        "print(df_credit_scores_rf)"
      ],
      "metadata": {
        "colab": {
          "base_uri": "https://localhost:8080/"
        },
        "id": "i4qvrtxyyZeD",
        "outputId": "c2a43fb1-8f39-4788-f593-679221250bf6"
      },
      "execution_count": 36,
      "outputs": [
        {
          "output_type": "stream",
          "name": "stdout",
          "text": [
            "       index  RiskProbability  CreditScore\n",
            "0          0              1.0        300.0\n",
            "1          1              1.0        300.0\n",
            "2          2              1.0        300.0\n",
            "3          3              1.0        300.0\n",
            "4          4              1.0        300.0\n",
            "...      ...              ...          ...\n",
            "19128  19128              1.0        300.0\n",
            "19129  19129              1.0        300.0\n",
            "19130  19130              1.0        300.0\n",
            "19131  19131              1.0        300.0\n",
            "19132  19132              1.0        300.0\n",
            "\n",
            "[19133 rows x 3 columns]\n"
          ]
        }
      ]
    },
    {
      "cell_type": "code",
      "source": [
        "import joblib\n",
        "\n",
        "# Save the trained model\n",
        "joblib.dump(best_rf_classifier, 'random_forest_model.pkl')"
      ],
      "metadata": {
        "colab": {
          "base_uri": "https://localhost:8080/"
        },
        "id": "Li6Bv7rtywja",
        "outputId": "8fb797d1-f20e-4769-a39d-86390248e5f2"
      },
      "execution_count": 37,
      "outputs": [
        {
          "output_type": "execute_result",
          "data": {
            "text/plain": [
              "['random_forest_model.pkl']"
            ]
          },
          "metadata": {},
          "execution_count": 37
        }
      ]
    }
  ]
}